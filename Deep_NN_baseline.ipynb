{
  "nbformat": 4,
  "nbformat_minor": 0,
  "metadata": {
    "colab": {
      "name": "Untitled0.ipynb",
      "provenance": [],
      "authorship_tag": "ABX9TyN/kSBEPuhfuxomrNfRTRG9"
    },
    "kernelspec": {
      "name": "python3",
      "display_name": "Python 3"
    },
    "language_info": {
      "name": "python"
    }
  },
  "cells": [
    {
      "cell_type": "code",
      "metadata": {
        "id": "fcrucSXjVelq"
      },
      "source": [
        "from tensorflow import keras\n",
        "from tensorflow.keras import layers\n",
        "\n",
        "model = keras.Sequential([\n",
        "    # the hidden ReLU layers\n",
        "    layers.Dense(units=512, activation='relu', input_shape=[8]),\n",
        "    layers.Dense(units=512, activation='relu'),\n",
        "    layers.Dense(units=512, activation='relu'),\n",
        "    # the linear output layer \n",
        "    layers.Dense(units=1),\n",
        "])"
      ],
      "execution_count": null,
      "outputs": []
    },
    {
      "cell_type": "code",
      "metadata": {
        "id": "BJ-I8QzhVmnF"
      },
      "source": [
        "# OR\n",
        "\n",
        "model = keras.Sequential([\n",
        "    layers.Dense(32, input_shape=[8]),\n",
        "    layers.Activation('relu'),\n",
        "    layers.Dense(32),\n",
        "    layers.Activation('relu'),\n",
        "    layers.Dense(1),\n",
        "])"
      ],
      "execution_count": null,
      "outputs": []
    }
  ]
}