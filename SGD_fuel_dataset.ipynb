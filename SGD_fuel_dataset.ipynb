{
  "nbformat": 4,
  "nbformat_minor": 0,
  "metadata": {
    "colab": {
      "name": "Untitled0.ipynb",
      "provenance": [],
      "authorship_tag": "ABX9TyPPkFdGapmpVpsVq+1BNQZN"
    },
    "kernelspec": {
      "name": "python3",
      "display_name": "Python 3"
    },
    "language_info": {
      "name": "python"
    }
  },
  "cells": [
    {
      "cell_type": "code",
      "metadata": {
        "id": "NgAw5VYJl2lC"
      },
      "source": [
        "import numpy as np\n",
        "import pandas as pd\n",
        "from sklearn.preprocessing import StandardScaler, OneHotEncoder\n",
        "from sklearn.compose import make_column_transformer, make_column_selector\n",
        "from sklearn.model_selection import train_test_split\n",
        "\n",
        "fuel = pd.read_csv('../datasets/fuel.csv')\n",
        "\n",
        "X = fuel.copy()\n",
        "# Remove target\n",
        "y = X.pop('FE') # predict fuel economy\n",
        "\n",
        "preprocessor = make_column_transformer(\n",
        "    (StandardScaler(),\n",
        "     make_column_selector(dtype_include=np.number)),\n",
        "    (OneHotEncoder(sparse=False),\n",
        "     make_column_selector(dtype_include=object)),\n",
        ")\n",
        "\n",
        "X = preprocessor.fit_transform(X)\n",
        "y = np.log(y) # log transform target instead of standardizing\n",
        "\n",
        "input_shape = [X.shape[1]]\n",
        "print(\"Input shape: {}\".format(input_shape))"
      ],
      "execution_count": null,
      "outputs": []
    },
    {
      "cell_type": "code",
      "metadata": {
        "id": "UQBglUo-l2n2"
      },
      "source": [
        "fuel.head() #see original data"
      ],
      "execution_count": null,
      "outputs": []
    },
    {
      "cell_type": "code",
      "metadata": {
        "id": "IEBMbQe2l2qh"
      },
      "source": [
        "pd.DataFrame(X[:10,:]).head() #see processed features"
      ],
      "execution_count": null,
      "outputs": []
    },
    {
      "cell_type": "code",
      "metadata": {
        "id": "pMLTjO0cl2tb"
      },
      "source": [
        "from tensorflow import keras\n",
        "from tensorflow.keras import layers\n",
        "\n",
        "model = keras.Sequential([\n",
        "    layers.Dense(128, activation='relu', input_shape=input_shape),\n",
        "    layers.Dense(128, activation='relu'),    \n",
        "    layers.Dense(64, activation='relu'),\n",
        "    layers.Dense(1),\n",
        "])"
      ],
      "execution_count": null,
      "outputs": []
    },
    {
      "cell_type": "code",
      "metadata": {
        "id": "5OltSQRVl2wa"
      },
      "source": [
        "model.compile(\n",
        "optimizer='adam',\n",
        "    loss='mae',\n",
        ")"
      ],
      "execution_count": null,
      "outputs": []
    },
    {
      "cell_type": "code",
      "metadata": {
        "id": "tKC2CfREl2y3"
      },
      "source": [
        "history = model.fit(\n",
        "    X, y,\n",
        "    batch_size=128,\n",
        "    epochs=200,\n",
        ")"
      ],
      "execution_count": null,
      "outputs": []
    },
    {
      "cell_type": "code",
      "metadata": {
        "id": "sRMdW1j1l21j"
      },
      "source": [
        "history_df = pd.DataFrame(history.history)\n",
        "# Start the plot at epoch 5. You can change this to get a different view.\n",
        "history_df.loc[5:, ['loss']].plot();"
      ],
      "execution_count": null,
      "outputs": []
    },
    {
      "cell_type": "code",
      "metadata": {
        "id": "xLjGtvDUl24y"
      },
      "source": [
        ""
      ],
      "execution_count": null,
      "outputs": []
    },
    {
      "cell_type": "code",
      "metadata": {
        "id": "ew4J6fJ4l27D"
      },
      "source": [
        ""
      ],
      "execution_count": null,
      "outputs": []
    },
    {
      "cell_type": "code",
      "metadata": {
        "id": "MO_7QtEWl295"
      },
      "source": [
        ""
      ],
      "execution_count": null,
      "outputs": []
    },
    {
      "cell_type": "code",
      "metadata": {
        "id": "88s0ac6cl3A7"
      },
      "source": [
        ""
      ],
      "execution_count": null,
      "outputs": []
    }
  ]
}