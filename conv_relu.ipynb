{
  "nbformat": 4,
  "nbformat_minor": 0,
  "metadata": {
    "colab": {
      "name": "Untitled0.ipynb",
      "provenance": [],
      "authorship_tag": "ABX9TyP0kC13hddQ8+gQafzgRlP7"
    },
    "kernelspec": {
      "name": "python3",
      "display_name": "Python 3"
    },
    "language_info": {
      "name": "python"
    }
  },
  "cells": [
    {
      "cell_type": "code",
      "metadata": {
        "id": "JXR8W_gzm4Q5"
      },
      "source": [
        "import numpy as np\n",
        "import tensorflow as tf\n",
        "import sympy\n",
        "sympy.init_printing()\n",
        "from IPython.display import display"
      ],
      "execution_count": 1,
      "outputs": []
    },
    {
      "cell_type": "code",
      "metadata": {
        "id": "uko4AKi1m4T1"
      },
      "source": [
        "image = np.array([\n",
        "    [0, 1, 0, 0, 0, 0],\n",
        "    [0, 1, 0, 0, 0, 0],\n",
        "    [0, 1, 0, 0, 0, 0],\n",
        "    [0, 1, 0, 0, 0, 0],\n",
        "    [0, 1, 0, 1, 1, 1],\n",
        "    [0, 1, 0, 0, 0, 0],\n",
        "])\n",
        "\n",
        "kernel = np.array([\n",
        "    [1, -1],\n",
        "    [1, -1],\n",
        "])"
      ],
      "execution_count": 9,
      "outputs": []
    },
    {
      "cell_type": "code",
      "metadata": {
        "id": "kyYQsR7Xm4Wp",
        "colab": {
          "base_uri": "https://localhost:8080/",
          "height": 197
        },
        "outputId": "c6cb915c-818b-46e5-8a1d-87e58400ace9"
      },
      "source": [
        "display(sympy.Matrix(image))\n",
        "print()\n",
        "display(sympy.Matrix(kernel))"
      ],
      "execution_count": 10,
      "outputs": [
        {
          "output_type": "display_data",
          "data": {
            "text/latex": "$\\displaystyle \\left[\\begin{matrix}0 & 1 & 0 & 0 & 0 & 0\\\\0 & 1 & 0 & 0 & 0 & 0\\\\0 & 1 & 0 & 0 & 0 & 0\\\\0 & 1 & 0 & 0 & 0 & 0\\\\0 & 1 & 0 & 1 & 1 & 1\\\\0 & 1 & 0 & 0 & 0 & 0\\end{matrix}\\right]$",
            "text/plain": [
              "⎡0  1  0  0  0  0⎤\n",
              "⎢                ⎥\n",
              "⎢0  1  0  0  0  0⎥\n",
              "⎢                ⎥\n",
              "⎢0  1  0  0  0  0⎥\n",
              "⎢                ⎥\n",
              "⎢0  1  0  0  0  0⎥\n",
              "⎢                ⎥\n",
              "⎢0  1  0  1  1  1⎥\n",
              "⎢                ⎥\n",
              "⎣0  1  0  0  0  0⎦"
            ]
          },
          "metadata": {}
        },
        {
          "output_type": "stream",
          "name": "stdout",
          "text": [
            "\n"
          ]
        },
        {
          "output_type": "display_data",
          "data": {
            "text/latex": "$\\displaystyle \\left[\\begin{matrix}1 & -1\\\\1 & -1\\end{matrix}\\right]$",
            "text/plain": [
              "⎡1  -1⎤\n",
              "⎢     ⎥\n",
              "⎣1  -1⎦"
            ]
          },
          "metadata": {}
        }
      ]
    },
    {
      "cell_type": "code",
      "metadata": {
        "id": "bdQFKaRfcXPe"
      },
      "source": [
        "# Reformat for Tensorflow\n",
        "image = tf.cast(image, dtype=tf.float32)\n",
        "image = tf.reshape(image, [1, *image.shape, 1])\n",
        "kernel = tf.reshape(kernel, [*kernel.shape, 1, 1])\n",
        "kernel = tf.cast(kernel, dtype=tf.float32)"
      ],
      "execution_count": 11,
      "outputs": []
    },
    {
      "cell_type": "code",
      "metadata": {
        "id": "72vPO2ozcXRw"
      },
      "source": [
        "image_filter = tf.nn.conv2d(\n",
        "    input=image,\n",
        "    filters=kernel,\n",
        "    strides=1,\n",
        "    padding='VALID',\n",
        ")\n",
        "\n",
        "\n",
        "image_detect = tf.nn.relu(image_filter)"
      ],
      "execution_count": 12,
      "outputs": []
    },
    {
      "cell_type": "code",
      "metadata": {
        "colab": {
          "base_uri": "https://localhost:8080/",
          "height": 237
        },
        "id": "BjwxVD0HcXUh",
        "outputId": "d11759df-4dc8-4860-9452-455bedad47d1"
      },
      "source": [
        "# The first matrix is the image after convolution, and the second is\n",
        "# the image after ReLU.\n",
        "\n",
        "display(sympy.Matrix(tf.squeeze(image_filter).numpy()))\n",
        "print()\n",
        "display(sympy.Matrix(tf.squeeze(image_detect).numpy()))"
      ],
      "execution_count": 13,
      "outputs": [
        {
          "output_type": "display_data",
          "data": {
            "text/latex": "$\\displaystyle \\left[\\begin{matrix}-2.0 & 2.0 & 0.0 & 0.0 & 0.0\\\\-2.0 & 2.0 & 0.0 & 0.0 & 0.0\\\\-2.0 & 2.0 & 0.0 & 0.0 & 0.0\\\\-2.0 & 2.0 & -1.0 & 0.0 & 0.0\\\\-2.0 & 2.0 & -1.0 & 0.0 & 0.0\\end{matrix}\\right]$",
            "text/plain": [
              "⎡-2.0  2.0  0.0   0.0  0.0⎤\n",
              "⎢                         ⎥\n",
              "⎢-2.0  2.0  0.0   0.0  0.0⎥\n",
              "⎢                         ⎥\n",
              "⎢-2.0  2.0  0.0   0.0  0.0⎥\n",
              "⎢                         ⎥\n",
              "⎢-2.0  2.0  -1.0  0.0  0.0⎥\n",
              "⎢                         ⎥\n",
              "⎣-2.0  2.0  -1.0  0.0  0.0⎦"
            ]
          },
          "metadata": {}
        },
        {
          "output_type": "stream",
          "name": "stdout",
          "text": [
            "\n"
          ]
        },
        {
          "output_type": "display_data",
          "data": {
            "text/latex": "$\\displaystyle \\left[\\begin{matrix}0.0 & 2.0 & 0.0 & 0.0 & 0.0\\\\0.0 & 2.0 & 0.0 & 0.0 & 0.0\\\\0.0 & 2.0 & 0.0 & 0.0 & 0.0\\\\0.0 & 2.0 & 0.0 & 0.0 & 0.0\\\\0.0 & 2.0 & 0.0 & 0.0 & 0.0\\end{matrix}\\right]$",
            "text/plain": [
              "⎡0.0  2.0  0.0  0.0  0.0⎤\n",
              "⎢                       ⎥\n",
              "⎢0.0  2.0  0.0  0.0  0.0⎥\n",
              "⎢                       ⎥\n",
              "⎢0.0  2.0  0.0  0.0  0.0⎥\n",
              "⎢                       ⎥\n",
              "⎢0.0  2.0  0.0  0.0  0.0⎥\n",
              "⎢                       ⎥\n",
              "⎣0.0  2.0  0.0  0.0  0.0⎦"
            ]
          },
          "metadata": {}
        }
      ]
    },
    {
      "cell_type": "code",
      "metadata": {
        "id": "hxs4Ef1ocXhu"
      },
      "source": [
        ""
      ],
      "execution_count": null,
      "outputs": []
    },
    {
      "cell_type": "code",
      "metadata": {
        "id": "EETZL9ETm4Zs"
      },
      "source": [
        ""
      ],
      "execution_count": null,
      "outputs": []
    }
  ]
}